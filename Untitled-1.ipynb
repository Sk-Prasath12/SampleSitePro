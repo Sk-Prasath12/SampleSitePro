{
 "cells": [
  {
   "cell_type": "code",
   "execution_count": null,
   "metadata": {},
   "outputs": [],
   "source": [
    "import mysql.connector\n",
    "from mysql.connector import Error\n",
    "\n",
    "def create_connection():\n",
    "    \"\"\"Create a connection to the MySQL database.\"\"\"\n",
    "    try:\n",
    "        # Replace these variables with your own configuration\n",
    "        connection = mysql.connector.connect(\n",
    "            host='your_host',          # e.g., 'localhost' or an IP address\n",
    "            user='your_username',      # e.g., 'root'\n",
    "            password='your_password',  # e.g., 'password'\n",
    "            database='your_database'   # e.g., 'test_db'\n",
    "        )\n",
    "\n",
    "        if connection.is_connected():\n",
    "            print(\"Successfully connected to the database\")\n",
    "\n",
    "        return connection\n",
    "\n",
    "    except Error as e:\n",
    "        print(f\"Error: {e}\")\n",
    "        return None\n",
    "\n",
    "def execute_query(connection, query):\n",
    "    \"\"\"Execute a single query using the provided connection.\"\"\"\n",
    "    try:\n",
    "        cursor = connection.cursor()\n",
    "        cursor.execute(query)\n",
    "        result = cursor.fetchall()\n",
    "        for row in result:\n",
    "            print(row)\n",
    "        cursor.close()\n",
    "    except Error as e:\n",
    "        print(f\"Error: {e}\")\n",
    "\n",
    "def main():\n",
    "    connection = create_connection()\n",
    "    if connection is not None:\n",
    "        query = \"SELECT * FROM your_table\"  # Replace with your query\n",
    "        execute_query(connection, query\n"
   ]
  }
 ],
 "metadata": {
  "language_info": {
   "name": "python"
  }
 },
 "nbformat": 4,
 "nbformat_minor": 2
}
